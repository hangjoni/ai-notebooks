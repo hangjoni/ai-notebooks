{
  "nbformat": 4,
  "nbformat_minor": 0,
  "metadata": {
    "colab": {
      "provenance": [],
      "authorship_tag": "ABX9TyNMFyP90QoteXh6ngsCIjUZ",
      "include_colab_link": true
    },
    "kernelspec": {
      "name": "python3",
      "display_name": "Python 3"
    },
    "language_info": {
      "name": "python"
    }
  },
  "cells": [
    {
      "cell_type": "markdown",
      "metadata": {
        "id": "view-in-github",
        "colab_type": "text"
      },
      "source": [
        "<a href=\"https://colab.research.google.com/github/hangjoni/ai-notebooks/blob/main/WWF_L2_Low_Level_API_with_MNIST.ipynb\" target=\"_parent\"><img src=\"https://colab.research.google.com/assets/colab-badge.svg\" alt=\"Open In Colab\"/></a>"
      ]
    },
    {
      "cell_type": "markdown",
      "source": [
        "Lesson [page](https://walkwithfastai.com/revisited/low_level.html)"
      ],
      "metadata": {
        "id": "EeTyPsh7hGAv"
      }
    },
    {
      "cell_type": "code",
      "execution_count": 1,
      "metadata": {
        "id": "JEeEz53dg-E8"
      },
      "outputs": [],
      "source": [
        "from fastai.vision.all import *"
      ]
    },
    {
      "cell_type": "code",
      "source": [
        "path = untar_data(URLs.MNIST); path, path.ls()"
      ],
      "metadata": {
        "colab": {
          "base_uri": "https://localhost:8080/",
          "height": 72
        },
        "id": "Mi1tS8pHhOEN",
        "outputId": "4abfdf26-cf3c-4d4a-ff6b-7c1d779f22a4"
      },
      "execution_count": 2,
      "outputs": [
        {
          "output_type": "display_data",
          "data": {
            "text/plain": [
              "<IPython.core.display.HTML object>"
            ],
            "text/html": [
              "\n",
              "<style>\n",
              "    /* Turns off some styling */\n",
              "    progress {\n",
              "        /* gets rid of default border in Firefox and Opera. */\n",
              "        border: none;\n",
              "        /* Needs to be in here for Safari polyfill so background images work as expected. */\n",
              "        background-size: auto;\n",
              "    }\n",
              "    progress:not([value]), progress:not([value])::-webkit-progress-bar {\n",
              "        background: repeating-linear-gradient(45deg, #7e7e7e, #7e7e7e 10px, #5c5c5c 10px, #5c5c5c 20px);\n",
              "    }\n",
              "    .progress-bar-interrupted, .progress-bar-interrupted::-webkit-progress-bar {\n",
              "        background: #F44336;\n",
              "    }\n",
              "</style>\n"
            ]
          },
          "metadata": {}
        },
        {
          "output_type": "display_data",
          "data": {
            "text/plain": [
              "<IPython.core.display.HTML object>"
            ],
            "text/html": [
              "\n",
              "    <div>\n",
              "      <progress value='15687680' class='' max='15683414' style='width:300px; height:20px; vertical-align: middle;'></progress>\n",
              "      100.03% [15687680/15683414 00:00&lt;00:00]\n",
              "    </div>\n",
              "    "
            ]
          },
          "metadata": {}
        },
        {
          "output_type": "execute_result",
          "data": {
            "text/plain": [
              "(Path('/root/.fastai/data/mnist_png'),\n",
              " (#2) [Path('/root/.fastai/data/mnist_png/training'),Path('/root/.fastai/data/mnist_png/testing')])"
            ]
          },
          "metadata": {},
          "execution_count": 2
        }
      ]
    },
    {
      "cell_type": "code",
      "source": [
        "items = get_image_files(path)\n",
        "items[:10]"
      ],
      "metadata": {
        "colab": {
          "base_uri": "https://localhost:8080/"
        },
        "id": "CWHBvyAAhc1_",
        "outputId": "3e6d54f2-8acd-4cd0-8ea8-df1e0167df87"
      },
      "execution_count": 5,
      "outputs": [
        {
          "output_type": "execute_result",
          "data": {
            "text/plain": [
              "(#10) [Path('/root/.fastai/data/mnist_png/training/2/52319.png'),Path('/root/.fastai/data/mnist_png/training/2/10291.png'),Path('/root/.fastai/data/mnist_png/training/2/23826.png'),Path('/root/.fastai/data/mnist_png/training/2/12302.png'),Path('/root/.fastai/data/mnist_png/training/2/30762.png'),Path('/root/.fastai/data/mnist_png/training/2/21436.png'),Path('/root/.fastai/data/mnist_png/training/2/41417.png'),Path('/root/.fastai/data/mnist_png/training/2/17265.png'),Path('/root/.fastai/data/mnist_png/training/2/17757.png'),Path('/root/.fastai/data/mnist_png/training/2/6168.png')]"
            ]
          },
          "metadata": {},
          "execution_count": 5
        }
      ]
    },
    {
      "cell_type": "code",
      "source": [
        "len(items), len((path/'training'/'1').ls())"
      ],
      "metadata": {
        "colab": {
          "base_uri": "https://localhost:8080/"
        },
        "id": "WzY-JDyohncv",
        "outputId": "5dc6d634-c749-4ac6-9925-09fb1d908690"
      },
      "execution_count": 10,
      "outputs": [
        {
          "output_type": "execute_result",
          "data": {
            "text/plain": [
              "(70000, 6742)"
            ]
          },
          "metadata": {},
          "execution_count": 10
        }
      ]
    },
    {
      "cell_type": "markdown",
      "source": [
        "get_image_files grab from all sub-folders by default. i.e. both /training and /testing folders"
      ],
      "metadata": {
        "id": "mElo-JhYiNA4"
      }
    },
    {
      "cell_type": "code",
      "source": [
        "count_train = 0\n",
        "count_valid = 0\n",
        "for i in range(10):\n",
        "  dir_train = path/'training'/str(i)\n",
        "  dir_valid = path/'testing'/str(i)\n",
        "  count_train += len(dir_train.ls())\n",
        "  count_valid += len(dir_valid.ls())\n",
        "count_train, count_valid"
      ],
      "metadata": {
        "colab": {
          "base_uri": "https://localhost:8080/"
        },
        "id": "4Tp7evush41d",
        "outputId": "a770d651-ab21-4ce2-b77c-8cedcc4b6e62"
      },
      "execution_count": 14,
      "outputs": [
        {
          "output_type": "execute_result",
          "data": {
            "text/plain": [
              "(60000, 10000)"
            ]
          },
          "metadata": {},
          "execution_count": 14
        }
      ]
    },
    {
      "cell_type": "markdown",
      "source": [
        "Last lesson, we use Pillow to open the image. As reminder, this was how"
      ],
      "metadata": {
        "id": "ahhQbPM6kGfa"
      }
    },
    {
      "cell_type": "code",
      "source": [
        "from PIL import Image\n",
        "im = Image.open(items[0])\n",
        "im"
      ],
      "metadata": {
        "colab": {
          "base_uri": "https://localhost:8080/",
          "height": 45
        },
        "id": "BDhUWUf5jmio",
        "outputId": "fac2026e-3fc1-413c-d709-cfd20b8962a0"
      },
      "execution_count": 17,
      "outputs": [
        {
          "output_type": "execute_result",
          "data": {
            "text/plain": [
              "<PIL.PngImagePlugin.PngImageFile image mode=L size=28x28>"
            ],
            "image/png": "[encoded data removed]"
          },
          "metadata": {},
          "execution_count": 17
        }
      ]
    },
    {
      "cell_type": "markdown",
      "source": [
        "Now we'll try opening the image using Fastai built in class"
      ],
      "metadata": {
        "id": "TbdgOZdqkMoH"
      }
    },
    {
      "cell_type": "code",
      "source": [
        "im = PILImageBW.create(items[0])\n",
        "im"
      ],
      "metadata": {
        "colab": {
          "base_uri": "https://localhost:8080/",
          "height": 45
        },
        "id": "vWxwSVetjugJ",
        "outputId": "2525f3bb-5f76-476f-b9c1-c1c4849c82e5"
      },
      "execution_count": 18,
      "outputs": [
        {
          "output_type": "execute_result",
          "data": {
            "text/plain": [
              "PILImageBW mode=L size=28x28"
            ],
            "image/png": "[encoded data removed]"
          },
          "metadata": {},
          "execution_count": 18
        }
      ]
    },
    {
      "cell_type": "markdown",
      "source": [
        "Alternatively, im.show() works with PILImageBW. \n",
        "\n",
        "It shows image in a nice way: making it larger, inverting the black and white to be more human-friendly"
      ],
      "metadata": {
        "id": "XFCovbGDkbfY"
      }
    },
    {
      "cell_type": "code",
      "source": [
        "im.show();"
      ],
      "metadata": {
        "colab": {
          "base_uri": "https://localhost:8080/",
          "height": 85
        },
        "id": "EJFcAuFbkXop",
        "outputId": "98ba07b9-4fe0-4cfb-ef18-fd995b02401e"
      },
      "execution_count": 20,
      "outputs": [
        {
          "output_type": "display_data",
          "data": {
            "text/plain": [
              "<Figure size 72x72 with 1 Axes>"
            ],
            "image/png": "[encoded data removed]"
          },
          "metadata": {
            "needs_background": "light"
          }
        }
      ]
    },
    {
      "cell_type": "code",
      "source": [
        "splitter = GrandparentSplitter(\n",
        "    train_name=\"training\",\n",
        "    valid_name=\"testing\"\n",
        ")"
      ],
      "metadata": {
        "id": "rvCBFHsxkfhG"
      },
      "execution_count": 21,
      "outputs": []
    },
    {
      "cell_type": "code",
      "source": [
        "splits = splitter(items)"
      ],
      "metadata": {
        "id": "in3kfFMWlx0P"
      },
      "execution_count": 22,
      "outputs": []
    },
    {
      "cell_type": "code",
      "source": [
        "len(splits), len(splits[0]), len(splits[1])"
      ],
      "metadata": {
        "colab": {
          "base_uri": "https://localhost:8080/"
        },
        "id": "eabshXwZl3oD",
        "outputId": "9dd8f79a-c7b5-4814-d4dc-dd2764bac1bd"
      },
      "execution_count": 23,
      "outputs": [
        {
          "output_type": "execute_result",
          "data": {
            "text/plain": [
              "(2, 60000, 10000)"
            ]
          },
          "metadata": {},
          "execution_count": 23
        }
      ]
    },
    {
      "cell_type": "code",
      "source": [
        "splits[0][0], splits[1][100]"
      ],
      "metadata": {
        "colab": {
          "base_uri": "https://localhost:8080/"
        },
        "id": "svwpG333l9kp",
        "outputId": "cfb9ec17-4ed9-4d88-d5df-e83767240eeb"
      },
      "execution_count": 25,
      "outputs": [
        {
          "output_type": "execute_result",
          "data": {
            "text/plain": [
              "(0, 60100)"
            ]
          },
          "metadata": {},
          "execution_count": 25
        }
      ]
    },
    {
      "cell_type": "markdown",
      "source": [
        "splitter returns a tuple of 2 list of indexes on the input items.\n",
        "\n",
        "Basically it decide whether each item in the input items belong to the first or the second bucket"
      ],
      "metadata": {
        "id": "wFLsh1tfmy17"
      }
    },
    {
      "cell_type": "code",
      "source": [
        "s0 = pd.DataFrame(splits[0] + splits[1], columns=['s0'])\n",
        "s0['s0'].nunique()"
      ],
      "metadata": {
        "colab": {
          "base_uri": "https://localhost:8080/"
        },
        "id": "GrXpkimrmG78",
        "outputId": "5d883866-5a8a-434b-f74e-6b91adbffd59"
      },
      "execution_count": 29,
      "outputs": [
        {
          "output_type": "execute_result",
          "data": {
            "text/plain": [
              "70000"
            ]
          },
          "metadata": {},
          "execution_count": 29
        }
      ]
    },
    {
      "cell_type": "markdown",
      "source": [
        "### Datasets\n",
        "\n",
        "So far we have gathered all our filename into a list called items\n",
        "\n",
        "Then splits hold the index (of items) that decide which bucket does each item belong to\n",
        "\n",
        "Datasets gonna hold all that logic together"
      ],
      "metadata": {
        "id": "FdR4PfBwnETB"
      }
    },
    {
      "cell_type": "code",
      "source": [
        "dsrc = Datasets(\n",
        "    items,\n",
        "    tfms=[[PILImageBW.create], [parent_label, Categorize]],\n",
        "    splits=splits\n",
        ")"
      ],
      "metadata": {
        "id": "K482iFA6mURW"
      },
      "execution_count": 30,
      "outputs": []
    },
    {
      "cell_type": "markdown",
      "source": [
        "parent_label is a fastai convenience that returns the label for the given image filename by using the name of the parent folder"
      ],
      "metadata": {
        "id": "kUBd3lmLnsqw"
      }
    },
    {
      "cell_type": "code",
      "source": [
        "dsrc.train[0]"
      ],
      "metadata": {
        "colab": {
          "base_uri": "https://localhost:8080/"
        },
        "id": "mFbIzHf6nkYa",
        "outputId": "fc78b408-ffce-433b-90ed-3348d113aa0a"
      },
      "execution_count": 41,
      "outputs": [
        {
          "output_type": "execute_result",
          "data": {
            "text/plain": [
              "(PILImageBW mode=L size=28x28, TensorCategory(2))"
            ]
          },
          "metadata": {},
          "execution_count": 41
        }
      ]
    },
    {
      "cell_type": "code",
      "source": [
        "dsrc.valid"
      ],
      "metadata": {
        "colab": {
          "base_uri": "https://localhost:8080/"
        },
        "id": "2kuo1D0ZnnYs",
        "outputId": "c33e5a82-9a6b-4bbc-ef9b-a2a65366f77f"
      },
      "execution_count": 36,
      "outputs": [
        {
          "output_type": "execute_result",
          "data": {
            "text/plain": [
              "(#10000) [(PILImageBW mode=L size=28x28, TensorCategory(2)),(PILImageBW mode=L size=28x28, TensorCategory(2)),(PILImageBW mode=L size=28x28, TensorCategory(2)),(PILImageBW mode=L size=28x28, TensorCategory(2)),(PILImageBW mode=L size=28x28, TensorCategory(2)),(PILImageBW mode=L size=28x28, TensorCategory(2)),(PILImageBW mode=L size=28x28, TensorCategory(2)),(PILImageBW mode=L size=28x28, TensorCategory(2)),(PILImageBW mode=L size=28x28, TensorCategory(2)),(PILImageBW mode=L size=28x28, TensorCategory(2))...]"
            ]
          },
          "metadata": {},
          "execution_count": 36
        }
      ]
    },
    {
      "cell_type": "code",
      "source": [
        "dsrc.train[0][0].show();"
      ],
      "metadata": {
        "colab": {
          "base_uri": "https://localhost:8080/",
          "height": 85
        },
        "id": "_cOMjPuSqf4n",
        "outputId": "ad8a8d6a-ed5c-494b-fb61-8e0bd1e46d75"
      },
      "execution_count": 44,
      "outputs": [
        {
          "output_type": "display_data",
          "data": {
            "text/plain": [
              "<Figure size 72x72 with 1 Axes>"
            ],
            "image/png": "[encoded data removed]"
          },
          "metadata": {
            "needs_background": "light"
          }
        }
      ]
    },
    {
      "cell_type": "markdown",
      "source": [
        "Datasets create a .train and .valid attribute on the returned dataset. \n",
        "\n",
        "Each contains a list of tuple (image, label)\n",
        "\n",
        "tfms variable in Datasets() specify list of transforms to be applied to the returned tuple - image and label respectively"
      ],
      "metadata": {
        "id": "Fz2eLu1Vq-Bo"
      }
    },
    {
      "cell_type": "code",
      "source": [
        "show_at(dsrc.train,3);"
      ],
      "metadata": {
        "colab": {
          "base_uri": "https://localhost:8080/",
          "height": 101
        },
        "id": "ul44wGYTqieM",
        "outputId": "599ee94e-9cd4-4b25-d055-f0d6fba1251e"
      },
      "execution_count": 46,
      "outputs": [
        {
          "output_type": "display_data",
          "data": {
            "text/plain": [
              "<Figure size 72x72 with 1 Axes>"
            ],
            "image/png": "[encoded data removed]"
          },
          "metadata": {
            "needs_background": "light"
          }
        }
      ]
    },
    {
      "cell_type": "markdown",
      "source": [
        "### DataLoaders"
      ],
      "metadata": {
        "id": "0oHHtTbYr1qb"
      }
    },
    {
      "cell_type": "code",
      "source": [
        "item_tfms = [CropPad(34), RandomCrop(size=28), ToTensor()]"
      ],
      "metadata": {
        "id": "ebVMvRtcrRa2"
      },
      "execution_count": 47,
      "outputs": []
    },
    {
      "cell_type": "code",
      "source": [
        "batch_tfms = [IntToFloatTensor(), Normalize()]"
      ],
      "metadata": {
        "id": "Yv9Sg86SreKn"
      },
      "execution_count": 48,
      "outputs": []
    },
    {
      "cell_type": "code",
      "source": [
        "dls = dsrc.dataloaders(\n",
        "    bs=128,\n",
        "    after_item=item_tfms,\n",
        "    after_batch=batch_tfms\n",
        ")"
      ],
      "metadata": {
        "id": "YrX4ve3friTd"
      },
      "execution_count": 50,
      "outputs": []
    },
    {
      "cell_type": "code",
      "source": [
        "dls.show_batch()"
      ],
      "metadata": {
        "colab": {
          "base_uri": "https://localhost:8080/",
          "height": 536
        },
        "id": "zcHAR7-Ermk9",
        "outputId": "1d8ed318-a5cb-4598-be27-6fb12b6fe3f3"
      },
      "execution_count": 51,
      "outputs": [
        {
          "output_type": "display_data",
          "data": {
            "text/plain": [
              "<Figure size 648x648 with 9 Axes>"
            ],
            "image/png": "[encoded data removed]"
          },
          "metadata": {
            "needs_background": "light"
          }
        }
      ]
    },
    {
      "cell_type": "markdown",
      "source": [
        "Question: is one_batch deterministic or reshuffled?\n",
        "\n",
        "It is deterministic if called on dls.valid, since the data is not shuffled\n",
        "\n",
        "It is not deterministic if called on dls.train or dls (which defaults to dls.train?)"
      ],
      "metadata": {
        "id": "JorzdJoftEdS"
      }
    },
    {
      "cell_type": "code",
      "source": [
        "xb, yb = dls.one_batch()"
      ],
      "metadata": {
        "id": "e3XCkE7esLHJ"
      },
      "execution_count": 52,
      "outputs": []
    },
    {
      "cell_type": "code",
      "source": [
        "xb2, yb2 = dls.one_batch()"
      ],
      "metadata": {
        "id": "_Z7NB52LsSDh"
      },
      "execution_count": 55,
      "outputs": []
    },
    {
      "cell_type": "code",
      "source": [
        "(xb[0] == xb2[0]).all()"
      ],
      "metadata": {
        "colab": {
          "base_uri": "https://localhost:8080/"
        },
        "id": "n47sF4aUsTNX",
        "outputId": "f14ad84c-d3b0-4f1d-d0ff-2c039d9362c2"
      },
      "execution_count": 64,
      "outputs": [
        {
          "output_type": "execute_result",
          "data": {
            "text/plain": [
              "TensorImageBW(False)"
            ]
          },
          "metadata": {},
          "execution_count": 64
        }
      ]
    },
    {
      "cell_type": "code",
      "source": [
        "xb4, yb4 = dls.valid.one_batch()"
      ],
      "metadata": {
        "id": "cwhCL2JesoXz"
      },
      "execution_count": 59,
      "outputs": []
    },
    {
      "cell_type": "code",
      "source": [
        "(xb == xb4).all()"
      ],
      "metadata": {
        "colab": {
          "base_uri": "https://localhost:8080/"
        },
        "id": "MpBVGLC2stNv",
        "outputId": "cfa58c84-bd92-4a85-88cd-025476ab9976"
      },
      "execution_count": 65,
      "outputs": [
        {
          "output_type": "execute_result",
          "data": {
            "text/plain": [
              "TensorImageBW(False)"
            ]
          },
          "metadata": {},
          "execution_count": 65
        }
      ]
    },
    {
      "cell_type": "code",
      "source": [
        "xb5, yb5 = dls.valid.one_batch()"
      ],
      "metadata": {
        "id": "LULDmSyBsu6q"
      },
      "execution_count": 66,
      "outputs": []
    },
    {
      "cell_type": "code",
      "source": [
        "(xb4 == xb5).all()"
      ],
      "metadata": {
        "colab": {
          "base_uri": "https://localhost:8080/"
        },
        "id": "MGuCsC_TtOwa",
        "outputId": "c850eea8-2009-4f30-bfd2-3f05269479e6"
      },
      "execution_count": 67,
      "outputs": [
        {
          "output_type": "execute_result",
          "data": {
            "text/plain": [
              "TensorImageBW(True)"
            ]
          },
          "metadata": {},
          "execution_count": 67
        }
      ]
    },
    {
      "cell_type": "markdown",
      "source": [
        "Checking number of classes"
      ],
      "metadata": {
        "id": "ssLTvHhCtn36"
      }
    },
    {
      "cell_type": "code",
      "source": [
        "dls.c"
      ],
      "metadata": {
        "colab": {
          "base_uri": "https://localhost:8080/"
        },
        "id": "i042xaBHtRrn",
        "outputId": "c7ef9a12-b3c1-4b89-facd-dbd80a4e2970"
      },
      "execution_count": 68,
      "outputs": [
        {
          "output_type": "execute_result",
          "data": {
            "text/plain": [
              "10"
            ]
          },
          "metadata": {},
          "execution_count": 68
        }
      ]
    },
    {
      "cell_type": "markdown",
      "source": [
        "Building a Model and Training"
      ],
      "metadata": {
        "id": "6NEwp0E1tqQA"
      }
    },
    {
      "cell_type": "code",
      "source": [],
      "metadata": {
        "id": "xj_2HAIetm0z"
      },
      "execution_count": null,
      "outputs": []
    }
  ]
}